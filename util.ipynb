{
 "cells": [
  {
   "cell_type": "markdown",
   "metadata": {},
   "source": [
    "# Libraries"
   ]
  },
  {
   "cell_type": "code",
   "execution_count": null,
   "metadata": {},
   "outputs": [],
   "source": [
    "import numpy as np\n",
    "import keras\n",
    "import csv\n",
    "from keras.utils import to_categorical\n",
    "from dlxsudoku import Sudoku"
   ]
  },
  {
   "cell_type": "markdown",
   "metadata": {},
   "source": [
    "# Functions\n",
    "\n",
    "### Function that writes to csv file"
   ]
  },
  {
   "cell_type": "code",
   "execution_count": null,
   "metadata": {},
   "outputs": [],
   "source": [
    "def write_csv(header, content, file):    \n",
    "    with open(file, \"w\") as write_file:\n",
    "        writer = csv.writer(write_file)\n",
    "        writer.writerow(header)\n",
    "        for row in content:\n",
    "            writer.writerow(row)"
   ]
  },
  {
   "cell_type": "markdown",
   "metadata": {},
   "source": [
    "### Function that randomly deletes some digits from the solution"
   ]
  },
  {
   "cell_type": "code",
   "execution_count": null,
   "metadata": {},
   "outputs": [],
   "source": [
    "def delete_digits(X, digits_to_delete=1):\n",
    "    grids = X.argmax(3)\n",
    "    for grid in grids:\n",
    "        grid.flat[np.random.choice(81, digits_to_delete, replace=False)] = 0\n",
    "    return to_one_hot(grids)"
   ]
  },
  {
   "cell_type": "markdown",
   "metadata": {},
   "source": [
    "### Function that sums up the difference between true solutions and predicted ones"
   ]
  },
  {
   "cell_type": "code",
   "execution_count": null,
   "metadata": {},
   "outputs": [],
   "source": [
    "def total_diff(true, predicted):\n",
    "    return np.sum(true != predicted, axis=(1, 2))"
   ]
  },
  {
   "cell_type": "markdown",
   "metadata": {},
   "source": [
    "### Function that convert from grid to one-hot"
   ]
  },
  {
   "cell_type": "code",
   "execution_count": null,
   "metadata": {},
   "outputs": [],
   "source": [
    "def to_one_hot(x, n_classes=10): \n",
    "    return to_categorical(x, num_classes=n_classes).astype('float32')"
   ]
  },
  {
   "cell_type": "markdown",
   "metadata": {},
   "source": [
    "### Function that convert from one-hot matrix to grid"
   ]
  },
  {
   "cell_type": "code",
   "execution_count": 1,
   "metadata": {},
   "outputs": [],
   "source": [
    "def from_one_hot(one_hot_solutions):\n",
    "    return np.argmax(one_hot_solutions, axis=3)"
   ]
  },
  {
   "cell_type": "markdown",
   "metadata": {},
   "source": [
    "### Function that convert probability vector to one-hot array"
   ]
  },
  {
   "cell_type": "code",
   "execution_count": null,
   "metadata": {},
   "outputs": [],
   "source": [
    "def proba_to_one_hot(proba):\n",
    "    return np.array(proba == max(proba), dtype=np.float32)"
   ]
  },
  {
   "cell_type": "markdown",
   "metadata": {},
   "source": [
    "### Function that preprocesses the data"
   ]
  },
  {
   "cell_type": "code",
   "execution_count": null,
   "metadata": {},
   "outputs": [],
   "source": [
    "def preprocess(X, y, from_string=True, reshape=True, one_hot=True):\n",
    "    # Initial shape\n",
    "    print(\"Initial shape of X:\", X.shape)\n",
    "    print(\"Initial shape of y:\", y.shape)\n",
    "    \n",
    "    # Make copies\n",
    "    X_prep = X.copy()\n",
    "    y_prep = y.copy()\n",
    "    \n",
    "    # Convert from string\n",
    "    def to_int(x):\n",
    "        return np.array([[int(digit) for digit in row] for row in x])\n",
    "    if from_string:\n",
    "        X_prep = to_int(X_prep)\n",
    "        y_prep = to_int(y_prep)\n",
    "        print(\"Convert strings in X to:\", X_prep.shape)\n",
    "        print(\"Convert strings in y to:\", y_prep.shape)\n",
    "    \n",
    "    # Reshape to 9x9\n",
    "    def reshape_f(x):\n",
    "        return np.reshape(x, (9, 9))\n",
    "    if reshape:\n",
    "        X_prep = np.array(list(map(reshape_f, X_prep)))\n",
    "        y_prep = np.array(list(map(reshape_f, y_prep)))\n",
    "        print(\"Reshape X to:\", X_prep.shape)\n",
    "        print(\"Reshape y to:\", y_prep.shape)\n",
    "        \n",
    "    # One-hot encoding\n",
    "    if one_hot:\n",
    "        X_prep = to_one_hot(X_prep)\n",
    "        y_prep = to_one_hot(y_prep - 1, n_classes=9)\n",
    "        print(\"Shape of one-hot X:\", X_prep.shape)\n",
    "        print(\"Shape of one-hot y:\", y_prep.shape)\n",
    "        \n",
    "    return X_prep, y_prep"
   ]
  },
  {
   "cell_type": "markdown",
   "metadata": {},
   "source": [
    "### Function that generates prediction"
   ]
  },
  {
   "cell_type": "code",
   "execution_count": 1,
   "metadata": {},
   "outputs": [],
   "source": [
    "def iterative_predict(models, puzzles):\n",
    "    \"\"\"\n",
    "    Our attempt to re-implement this function but failed to optimize\n",
    "    \"\"\"\n",
    "    # solutions are built from puzzles\n",
    "    solutions = to_one_hot(puzzles.copy())\n",
    "    \n",
    "    while True:\n",
    "        # get zero positions\n",
    "        zeros = from_one_hot(solutions) == 0\n",
    "        if np.sum(zeros) == 0:\n",
    "            break # break if no zero left\n",
    "        zero_pos = []\n",
    "        for zero_grid in zeros:\n",
    "            pos = np.nonzero(zero_grid)\n",
    "            pos = list(zip(pos[0], pos[1]))\n",
    "            zero_pos.append(pos)\n",
    "        \n",
    "        # get predictions in shape (81, -1, 9) and reshape into (-1, 9, 9, 9)\n",
    "        preds = np.array(model.predict(solutions))\n",
    "        preds = np.array([np.reshape(preds[:, i, :], (9, 9, 9)) \n",
    "                          for i in range(preds.shape[1])])\n",
    "\n",
    "        # get best probability for each cell\n",
    "        max_probs = np.max(preds, axis=3)\n",
    "            \n",
    "        # Loop through each puzzle\n",
    "        for solution, pred, max_prob, zero_p in zip(solutions, preds, max_probs, zero_pos):\n",
    "            if len(zero_p) > 0: # if there is any zero in this puzzle\n",
    "                # get the position with largest probability\n",
    "                best_pos = zero_p[0]\n",
    "                best_prob = max_prob[best_pos]\n",
    "                for pos in zero_p:\n",
    "                    if max_prob[pos] > best_prob:\n",
    "                        best_prob = max_prob[pos]\n",
    "                        best_pos = pos\n",
    "                        \n",
    "                # fill in best_pos with corresponding value\n",
    "                # append [0] because puzzle has 10 classes\n",
    "                solution[best_pos] = np.append([0], proba_to_one_hot(pred[best_pos]))\n",
    "                \n",
    "    # convert to normal grid\n",
    "    return from_one_hot(solutions)"
   ]
  },
  {
   "cell_type": "code",
   "execution_count": null,
   "metadata": {},
   "outputs": [],
   "source": [
    "def efficient_iterative_predict(model, puzzles):\n",
    "    \"\"\"\n",
    "    Adapted from https://www.kaggle.com/dithyrambe/neural-nets-as-sudoku-solvers\n",
    "    Updated to have slightly better performance\n",
    "    \"\"\"\n",
    "    solutions = puzzles.copy()\n",
    "    \n",
    "    # Loop until no zero left\n",
    "    while True:\n",
    "        # get blank positions\n",
    "        zeros = (solutions == 0).reshape((solutions.shape[0], 81))  \n",
    "        if np.sum(zeros) == 0:\n",
    "            break\n",
    "        \n",
    "        # get predictions\n",
    "        preds = np.array(model.predict(to_one_hot(solutions, n_classes=10)))  \n",
    "        \n",
    "        # get highest probability for each 81 digit to predict\n",
    "        probs = preds.max(2).T  \n",
    "        \n",
    "        # get corresponding values\n",
    "        values = preds.argmax(2).T + 1  \n",
    "\n",
    "        # Loop through all puzzles\n",
    "        for solution, prob, value, zero in zip(solutions, probs, values, zeros):\n",
    "            if any(zero): # if there is any blank\n",
    "                # get blank positions\n",
    "                where = np.where(zero)[0]  \n",
    "                \n",
    "                # get the position with largest probability\n",
    "                best_pos = where[prob[zero].argmax()]\n",
    "                \n",
    "                # fill in the corresponding value\n",
    "                solution.flat[best_pos] = value[best_pos]\n",
    "                \n",
    "    return solutions"
   ]
  },
  {
   "cell_type": "markdown",
   "metadata": {},
   "source": [
    "### Function that evaluates the model on test set"
   ]
  },
  {
   "cell_type": "code",
   "execution_count": null,
   "metadata": {},
   "outputs": [],
   "source": [
    "def evaluate_model(model, X, predict_func=iterative_predict):\n",
    "    # Reshape X\n",
    "    X = from_one_hot(X)\n",
    "    \n",
    "    # get model prediction using iterative prediction\n",
    "    # +1 because there are only 9 classes for the prediction (0-8)\n",
    "    predictions = predict_func(model, X)\n",
    "    \n",
    "    # Verify prediction for each puzzle using correct_solution\n",
    "    validations = [correct_solution(puzzle, solution) \n",
    "                   for puzzle, solution in zip(X, predictions)]\n",
    "    \n",
    "    # Calculate accuracy\n",
    "    accuracy = np.mean(validations)\n",
    "\n",
    "    return {'predictions': predictions,\n",
    "            'validations': validations,\n",
    "            'accuracy': accuracy}"
   ]
  },
  {
   "cell_type": "markdown",
   "metadata": {},
   "source": [
    "### Function that evaluates different versions of model on validation set"
   ]
  },
  {
   "cell_type": "code",
   "execution_count": null,
   "metadata": {},
   "outputs": [],
   "source": [
    "def validation_summary(model_prefix, model_versions, X, y, batch_size=256):\n",
    "    evaluations = []\n",
    "    X_completed = to_one_hot(from_one_hot(y) + 1) # completed sudokus for loss\n",
    "    for version in model_versions:\n",
    "        # load model\n",
    "        model = keras.models.load_model(model_prefix + '-' + str(version) + '.h5')\n",
    "        \n",
    "        # get loss\n",
    "        loss = model.evaluate(X_completed, \n",
    "                              [y[:, i, j, :] for i in range(9) for j in range(9)],\n",
    "                              batch_size=batch_size)[0]\n",
    "        \n",
    "        # get accuracy\n",
    "        accuracy = evaluate_model(model, X)['accuracy']\n",
    "        \n",
    "        # append all\n",
    "        evaluations.append([version, loss, accuracy])\n",
    "    return evaluations"
   ]
  },
  {
   "cell_type": "markdown",
   "metadata": {},
   "source": [
    "### Function that check if a solution is correct"
   ]
  },
  {
   "cell_type": "code",
   "execution_count": null,
   "metadata": {},
   "outputs": [],
   "source": [
    "def correct_solution(puzzle, solution):\n",
    "    def is_sudoku_list(lst):\n",
    "        return max(lst) == 9 and min(lst) == 1 and len(set(lst)) == len(lst)\n",
    "    \n",
    "    match_puzzle = (81 - np.sum(puzzle == solution)) == np.sum(puzzle == 0)\n",
    "    if match_puzzle:\n",
    "        bad_rows = [row for row in solution if not is_sudoku_list(row)]\n",
    "        bad_cols = [col for col in solution.T if not is_sudoku_list(col)]\n",
    "        bad_squares = []\n",
    "        for i in np.arange(9, step=3):\n",
    "            for j in np.arange(9, step=3):\n",
    "                square = [solution[r][c] for r in range(i, i + 3) for c in range(j, j + 3)]\n",
    "                if not is_sudoku_list(square):\n",
    "                    bad_squares.append(square)\n",
    "        return not (bad_rows or bad_cols or bad_squares)\n",
    "    else:\n",
    "        return False"
   ]
  },
  {
   "cell_type": "markdown",
   "metadata": {},
   "source": [
    "### Function that creates training puzzle from solution"
   ]
  },
  {
   "cell_type": "code",
   "execution_count": null,
   "metadata": {},
   "outputs": [],
   "source": [
    "def to_puzzles(solutions):\n",
    "    puzzles = solutions.copy()\n",
    "    puzzles = to_one_hot(from_one_hot(puzzles) + 1)\n",
    "    return np.array(puzzles)"
   ]
  },
  {
   "cell_type": "markdown",
   "metadata": {},
   "source": [
    "### Function that converts one hot solution to output tensor shape"
   ]
  },
  {
   "cell_type": "code",
   "execution_count": null,
   "metadata": {},
   "outputs": [],
   "source": [
    "def to_output_shape(y_one_hot):\n",
    "    # Output tensor has shape of (81, None, 9)\n",
    "    return [y_one_hot[:, i, j, :] for i in range(9) for j in range(9)]"
   ]
  },
  {
   "cell_type": "markdown",
   "metadata": {},
   "source": [
    "### Function that trains model"
   ]
  },
  {
   "cell_type": "code",
   "execution_count": null,
   "metadata": {},
   "outputs": [],
   "source": [
    "def train_model(model, X_train, y_train, X_val, y_val, n_blanks=[0], epochs=[10], \n",
    "                batch_size=256, early_stop_patience=2, save_prefix=None):\n",
    "    # Early stopping\n",
    "    early_stop = EarlyStopping(patience=early_stop_patience, verbose=1)\n",
    "    \n",
    "    # Initialization\n",
    "    iteration = 1\n",
    "    \n",
    "    # Starting training\n",
    "    for n_epoch, n_blank in zip(epochs, n_blanks):\n",
    "        print('Iteration {}:'.format(iteration))\n",
    "        iteration += 1\n",
    "\n",
    "        # Input and output\n",
    "        train_puzzles = delete_digits(X_train, n_blank) # randomly delete n_blank cells\n",
    "        train_solutions = to_output_shape(y_train) # convert to output tensor shape\n",
    "        val_puzzles = delete_digits(X_val, n_blank)\n",
    "        val_solutions = to_output_shape(y_val)\n",
    "        \n",
    "        # Train the model\n",
    "        model.fit(train_puzzles, train_solutions,\n",
    "                  validation_data=(val_puzzles, val_solutions),\n",
    "                  batch_size=batch_size,\n",
    "                  epochs=n_epoch,\n",
    "                  callbacks=[early_stop],\n",
    "                  verbose=1)\n",
    "\n",
    "        # Save model if needed\n",
    "        if save_prefix:\n",
    "            keras.models.save_model(model, save_prefix + (\"-%d.h5\" % n_blank))"
   ]
  },
  {
   "cell_type": "markdown",
   "metadata": {},
   "source": [
    "### Solve sudoku using additional package"
   ]
  },
  {
   "cell_type": "code",
   "execution_count": null,
   "metadata": {},
   "outputs": [],
   "source": [
    "def solve(sudoku_strings):\n",
    "    solutions = []\n",
    "    for puzzle in sudoku_strings:\n",
    "        try:\n",
    "            s = Sudoku(puzzle[0])\n",
    "            s.solve()\n",
    "            sol = s.to_oneliner()\n",
    "        except:\n",
    "            sol = None\n",
    "        solutions.append([sol])\n",
    "    return np.array(solutions)"
   ]
  }
 ],
 "metadata": {
  "kernelspec": {
   "display_name": "Python 3",
   "language": "python",
   "name": "python3"
  },
  "language_info": {
   "codemirror_mode": {
    "name": "ipython",
    "version": 3
   },
   "file_extension": ".py",
   "mimetype": "text/x-python",
   "name": "python",
   "nbconvert_exporter": "python",
   "pygments_lexer": "ipython3",
   "version": "3.7.3"
  }
 },
 "nbformat": 4,
 "nbformat_minor": 2
}
