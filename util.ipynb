{
 "cells": [
  {
   "cell_type": "markdown",
   "metadata": {},
   "source": [
    "# Libraries"
   ]
  },
  {
   "cell_type": "code",
   "execution_count": null,
   "metadata": {},
   "outputs": [],
   "source": [
    "import numpy as np\n",
    "from keras.utils import to_categorical"
   ]
  },
  {
   "cell_type": "markdown",
   "metadata": {},
   "source": [
    "# Functions\n",
    "\n",
    "### Function that randomly deletes some digits from the solution"
   ]
  },
  {
   "cell_type": "code",
   "execution_count": null,
   "metadata": {},
   "outputs": [],
   "source": [
    "def delete_digits(X, digits_to_delete=1):\n",
    "    grids = X.argmax(3)\n",
    "    for grid in grids:\n",
    "        grid.flat[np.random.randint(0, 81, digits_to_delete)] = 0\n",
    "    return to_categorical(grids)"
   ]
  },
  {
   "cell_type": "markdown",
   "metadata": {},
   "source": [
    "### Function that sums up the difference between true solutions and predicted ones"
   ]
  },
  {
   "cell_type": "code",
   "execution_count": null,
   "metadata": {},
   "outputs": [],
   "source": [
    "def total_diff(true, predicted):\n",
    "    return np.sum(true != predicted, axis=(1, 2))"
   ]
  },
  {
   "cell_type": "markdown",
   "metadata": {},
   "source": [
    "### Function that convert from grid to one-hot"
   ]
  },
  {
   "cell_type": "code",
   "execution_count": null,
   "metadata": {},
   "outputs": [],
   "source": [
    "def to_one_hot(x): \n",
    "    return to_categorical(x).astype('float32')"
   ]
  },
  {
   "cell_type": "markdown",
   "metadata": {},
   "source": [
    "### Function that convert from one-hot matrix to grid"
   ]
  },
  {
   "cell_type": "code",
   "execution_count": 1,
   "metadata": {},
   "outputs": [],
   "source": [
    "def from_one_hot(one_hot_solution):\n",
    "    return np.argmax(one_hot_solution, axis=2)"
   ]
  },
  {
   "cell_type": "markdown",
   "metadata": {},
   "source": [
    "### Function that convert probability vector to one-hot array"
   ]
  },
  {
   "cell_type": "code",
   "execution_count": null,
   "metadata": {},
   "outputs": [],
   "source": [
    "def proba_to_one_hot(proba):\n",
    "    return np.array(proba == max(proba), dtype=np.float32)"
   ]
  },
  {
   "cell_type": "markdown",
   "metadata": {},
   "source": [
    "### Function that generates prediction"
   ]
  },
  {
   "cell_type": "code",
   "execution_count": 1,
   "metadata": {},
   "outputs": [],
   "source": [
    "def iterative_predict(puzzles, model):\n",
    "    solutions = puzzles.copy()\n",
    "    for solution in solutions:\n",
    "        zeros = from_one_hot(solution) == 0\n",
    "        while zeros.any():\n",
    "            # prediction\n",
    "            pred = model.predict(np.expand_dims(solution, axis=0))[0]\n",
    "            \n",
    "            # find the position of zeros\n",
    "            zero_pos = np.where(zeros)\n",
    "            zero_pos = list(zip(zero_pos[0], zero_pos[1]))\n",
    "            \n",
    "            # get best probability for each cell\n",
    "            max_prob = np.max(pred, axis=2)\n",
    "            \n",
    "            # get the largest prob of all empty cells\n",
    "            best_pos = zero_pos[0]\n",
    "            best_prob = max_prob[best_pos]\n",
    "            for pos in zero_pos:\n",
    "                if max_prob[pos] > best_prob:\n",
    "                    best_pos = pos\n",
    "                    best_prob = max_prob[pos]\n",
    "            \n",
    "            # fill in the cell\n",
    "            solution[best_pos] = np.append([0], proba_to_one_hot(pred[best_pos]))\n",
    "            \n",
    "            # update zeros\n",
    "            zeros = from_one_hot(solution) == 0\n",
    "    return solutions"
   ]
  },
  {
   "cell_type": "markdown",
   "metadata": {},
   "source": [
    "### Function that check if a solution is correct"
   ]
  },
  {
   "cell_type": "code",
   "execution_count": null,
   "metadata": {},
   "outputs": [],
   "source": [
    "def correct_solution(puzzle, solution):\n",
    "    def is_sudoku_list(lst):\n",
    "        return max(lst) == 9 and min(lst) == 1 and len(set(lst)) == len(lst)\n",
    "    \n",
    "    match_puzzle = (81 - np.sum(puzzle == solution)) == np.sum(puzzle == 0)\n",
    "    if match_puzzle:\n",
    "        bad_rows = [row for row in solution if not is_sudoku_list(row)]\n",
    "        bad_cols = [col for col in solution.T if not is_sudoku_list(col)]\n",
    "        bad_squares = []\n",
    "        for i in np.arange(9, step=3):\n",
    "            for j in np.arange(9, step=3):\n",
    "                square = [solution[r][c] for r in range(i, i + 3) for c in range(j, j + 3)]\n",
    "                if not is_sudoku_list(square):\n",
    "                    bad_squares.append(square)\n",
    "        return not (bad_rows or bad_cols or bad_squares)\n",
    "    else:\n",
    "        return False"
   ]
  },
  {
   "cell_type": "markdown",
   "metadata": {},
   "source": [
    "### Function that create training puzzle from solution"
   ]
  },
  {
   "cell_type": "code",
   "execution_count": null,
   "metadata": {},
   "outputs": [],
   "source": [
    "def to_puzzles(solutions):\n",
    "    puzzles = solutions.copy()\n",
    "    puzzles = [to_categorical(from_one_hot(puzzle) + 1).astype('float32')\n",
    "               for puzzle in puzzles]\n",
    "    return np.array(puzzles)"
   ]
  }
 ],
 "metadata": {
  "kernelspec": {
   "display_name": "Python 3",
   "language": "python",
   "name": "python3"
  },
  "language_info": {
   "codemirror_mode": {
    "name": "ipython",
    "version": 3
   },
   "file_extension": ".py",
   "mimetype": "text/x-python",
   "name": "python",
   "nbconvert_exporter": "python",
   "pygments_lexer": "ipython3",
   "version": "3.7.1"
  }
 },
 "nbformat": 4,
 "nbformat_minor": 2
}
