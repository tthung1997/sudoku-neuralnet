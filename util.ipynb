{
 "cells": [
  {
   "cell_type": "markdown",
   "metadata": {},
   "source": [
    "# Libraries"
   ]
  },
  {
   "cell_type": "code",
   "execution_count": null,
   "metadata": {},
   "outputs": [],
   "source": [
    "import numpy as np"
   ]
  },
  {
   "cell_type": "markdown",
   "metadata": {},
   "source": [
    "# Functions\n",
    "\n",
    "### Function that randomly deletes some digits from the solution"
   ]
  },
  {
   "cell_type": "code",
   "execution_count": null,
   "metadata": {},
   "outputs": [],
   "source": [
    "def delete_digits(X, digits_to_delete=1):\n",
    "    grids = X.argmax(3)\n",
    "    for grid in grids:\n",
    "        grid.flat[np.random.randint(0, 81, digits_to_delete)] = 0\n",
    "    return to_categorical(grids)"
   ]
  },
  {
   "cell_type": "markdown",
   "metadata": {},
   "source": [
    "### Function that sums up the difference between true solutions and predicted ones"
   ]
  },
  {
   "cell_type": "code",
   "execution_count": null,
   "metadata": {},
   "outputs": [],
   "source": [
    "def total_diff(true, predicted):\n",
    "    return np.sum(true != predicted, axis=(1, 2))"
   ]
  },
  {
   "cell_type": "markdown",
   "metadata": {},
   "source": [
    "### Function that generates prediction"
   ]
  },
  {
   "cell_type": "code",
   "execution_count": 1,
   "metadata": {},
   "outputs": [],
   "source": [
    "def predict(puzzle, model):\n",
    "    pass\n",
    "#     grids = grids.copy()\n",
    "#     for _ in range((grids == 0).sum((1, 2)).max()):\n",
    "#         preds = np.array(solver.predict(to_categorical(grids)))  # get predictions\n",
    "#         probs = preds.max(2).T  # get highest probability for each 81 digit to predict\n",
    "#         values = preds.argmax(2).T + 1  # get corresponding values\n",
    "#         zeros = (grids == 0).reshape((grids.shape[0], 81))  # get blank positions\n",
    "\n",
    "#         for grid, prob, value, zero in zip(grids, probs, values, zeros):\n",
    "#             if any(zero):  # don't try to fill already completed grid\n",
    "#                 where = np.where(zero)[0]  # focus on blanks only\n",
    "#                 confidence_position = where[prob[zero].argmax()]  # best score FOR A ZERO VALUE (confident blank)\n",
    "#                 confidence_value = value[confidence_position]  # get corresponding value\n",
    "#                 grid.flat[confidence_position] = confidence_value  # fill digit inplace\n",
    "#     return grids"
   ]
  }
 ],
 "metadata": {
  "kernelspec": {
   "display_name": "Python 3",
   "language": "python",
   "name": "python3"
  },
  "language_info": {
   "codemirror_mode": {
    "name": "ipython",
    "version": 3
   },
   "file_extension": ".py",
   "mimetype": "text/x-python",
   "name": "python",
   "nbconvert_exporter": "python",
   "pygments_lexer": "ipython3",
   "version": "3.7.3"
  }
 },
 "nbformat": 4,
 "nbformat_minor": 2
}
