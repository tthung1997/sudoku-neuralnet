{
 "cells": [
  {
   "cell_type": "markdown",
   "metadata": {},
   "source": [
    "# Libraries"
   ]
  },
  {
   "cell_type": "code",
   "execution_count": 65,
   "metadata": {},
   "outputs": [],
   "source": [
    "# imports\n",
    "import pandas as pd\n",
    "import numpy as np\n",
    "import argparse\n",
    "\n",
    "from sklearn.model_selection import train_test_split\n",
    "from keras.callbacks import EarlyStopping\n",
    "from keras.utils import to_categorical\n",
    "\n",
    "# Import models from another notebook\n",
    "%run model.ipynb\n",
    "%run util.ipynb"
   ]
  },
  {
   "cell_type": "code",
   "execution_count": 2,
   "metadata": {},
   "outputs": [],
   "source": [
    "# # params\n",
    "# parser = argparse.ArgumentParser(description='Process inputs for training a model')\n",
    "# parser.add_argument('--model_id', default='dense_model')\n",
    "# parser.add_argument('--dropout', default='0.4', type=float)\n",
    "# parser.add_argument('--layers_count', default='2', type=int)\n",
    "# parser.add_argument('--dense_units', default='64', type=int)\n",
    "# parser.add_argument('--hidden_activation', default='relu')\n",
    "\n",
    "# args = parser.parse_args()\n",
    "# print(\"Args: \" + str(args))"
   ]
  },
  {
   "cell_type": "markdown",
   "metadata": {},
   "source": [
    "# Preprocessing\n",
    "\n",
    "### Load sudoku"
   ]
  },
  {
   "cell_type": "code",
   "execution_count": 2,
   "metadata": {},
   "outputs": [
    {
     "name": "stdout",
     "output_type": "stream",
     "text": [
      "Full shape: (1000000, 2)\n",
      "Subset shape: (50000, 2)\n"
     ]
    }
   ],
   "source": [
    "# load inputs\n",
    "sudokus = pd.read_csv('./datasets/sudoku-kaggle.csv')\n",
    "print(\"Full shape:\", sudokus.shape)\n",
    "subset = sudokus.sample(n=50000).values\n",
    "print(\"Subset shape:\", subset.shape)"
   ]
  },
  {
   "cell_type": "markdown",
   "metadata": {},
   "source": [
    "### Split into data and labels"
   ]
  },
  {
   "cell_type": "code",
   "execution_count": 3,
   "metadata": {},
   "outputs": [
    {
     "name": "stdout",
     "output_type": "stream",
     "text": [
      "Number of puzzles: 50000\n",
      "Number of solutions: 50000\n"
     ]
    }
   ],
   "source": [
    "# Split into puzzles and solutions\n",
    "puzzles, solutions = subset[:, 0], subset[:, 1]\n",
    "print(\"Number of puzzles:\", len(puzzles))\n",
    "print(\"Number of solutions:\", len(solutions))"
   ]
  },
  {
   "cell_type": "markdown",
   "metadata": {},
   "source": [
    "### Reshape the data"
   ]
  },
  {
   "cell_type": "code",
   "execution_count": 4,
   "metadata": {},
   "outputs": [
    {
     "name": "stdout",
     "output_type": "stream",
     "text": [
      "Shape of puzzles: (50000, 9, 9)\n",
      "Shape of solutions: (50000, 9, 9)\n"
     ]
    }
   ],
   "source": [
    "# Reshape to 9x9\n",
    "reshape_f = lambda x: np.reshape([int(digit) for digit in x], (9, 9))\n",
    "reshaped_puzzles = np.array(list(map(reshape_f, puzzles)))\n",
    "reshaped_solutions = np.array(list(map(reshape_f, solutions)))\n",
    "print(\"Shape of puzzles:\", reshaped_puzzles.shape)\n",
    "print(\"Shape of solutions:\", reshaped_solutions.shape)"
   ]
  },
  {
   "cell_type": "code",
   "execution_count": 5,
   "metadata": {},
   "outputs": [
    {
     "name": "stdout",
     "output_type": "stream",
     "text": [
      "Shape of puzzles: (50000, 9, 9, 10)\n",
      "Shape of solutions: (50000, 9, 9, 9)\n"
     ]
    }
   ],
   "source": [
    "# To one-hot encoding\n",
    "one_hot_puzzles = to_one_hot(reshaped_puzzles)\n",
    "one_hot_solutions = to_one_hot(reshaped_solutions - 1)\n",
    "print(\"Shape of puzzles:\", one_hot_puzzles.shape)\n",
    "print(\"Shape of solutions:\", one_hot_solutions.shape)"
   ]
  },
  {
   "cell_type": "markdown",
   "metadata": {},
   "source": [
    "### Train test split"
   ]
  },
  {
   "cell_type": "code",
   "execution_count": 6,
   "metadata": {},
   "outputs": [
    {
     "name": "stdout",
     "output_type": "stream",
     "text": [
      "Training data shape: (45000, 9, 9, 10)\n",
      "Training labels shape: (45000, 9, 9, 9)\n",
      "Testing data shape: (5000, 9, 9, 10)\n",
      "Testing labels shape: (5000, 9, 9, 9)\n"
     ]
    }
   ],
   "source": [
    "# Split into train and test set\n",
    "X_train, X_test, y_train, y_test = train_test_split(one_hot_puzzles, one_hot_solutions, \n",
    "                                                    test_size=0.1, random_state=42)\n",
    "print(\"Training data shape:\", X_train.shape)\n",
    "print(\"Training labels shape:\", y_train.shape)\n",
    "print(\"Testing data shape:\", X_test.shape)\n",
    "print(\"Testing labels shape:\", y_test.shape)"
   ]
  },
  {
   "cell_type": "code",
   "execution_count": 7,
   "metadata": {},
   "outputs": [
    {
     "name": "stdout",
     "output_type": "stream",
     "text": [
      "Training data shape: (40500, 9, 9, 10)\n",
      "Training labels shape: (40500, 9, 9, 9)\n",
      "Validating data shape: (4500, 9, 9, 10)\n",
      "Validating labels shape: (4500, 9, 9, 9)\n"
     ]
    }
   ],
   "source": [
    "# validation\n",
    "X_train, X_val, y_train, y_val = train_test_split(X_train, y_train, test_size=0.1, random_state=42)\n",
    "print(\"Training data shape:\", X_train.shape)\n",
    "print(\"Training labels shape:\", y_train.shape)\n",
    "print(\"Validating data shape:\", X_val.shape)\n",
    "print(\"Validating labels shape:\", y_val.shape)"
   ]
  },
  {
   "cell_type": "code",
   "execution_count": 69,
   "metadata": {},
   "outputs": [
    {
     "name": "stdout",
     "output_type": "stream",
     "text": [
      "Training data shape: (40500, 9, 9, 10)\n",
      "Training labels shape: (40500, 9, 9, 9)\n",
      "Validating data shape: (4500, 9, 9, 10)\n",
      "Validating labels shape: (4500, 9, 9, 9)\n"
     ]
    }
   ],
   "source": [
    "# Create new X_train from y_train\n",
    "X_train_completed = to_puzzles(y_train)\n",
    "X_val_completed = to_puzzles(y_val)\n",
    "print(\"Training data shape:\", X_train_completed.shape)\n",
    "print(\"Training labels shape:\", y_train.shape)\n",
    "print(\"Validating data shape:\", X_val_completed.shape)\n",
    "print(\"Validating labels shape:\", y_val.shape)"
   ]
  },
  {
   "cell_type": "markdown",
   "metadata": {},
   "source": [
    "# Start training"
   ]
  },
  {
   "cell_type": "code",
   "execution_count": 71,
   "metadata": {},
   "outputs": [
    {
     "name": "stdout",
     "output_type": "stream",
     "text": [
      "Model input shape: (?, 9, 9, 10)\n",
      "Model output shape: (?, 9, 9, 9)\n"
     ]
    }
   ],
   "source": [
    "# initialize model\n",
    "model = get_model(X_train.shape[1:], model_id='dense_model')\n",
    "print(\"Model input shape:\", model.input.shape)\n",
    "print(\"Model output shape:\", model.output.shape)"
   ]
  },
  {
   "cell_type": "code",
   "execution_count": 72,
   "metadata": {},
   "outputs": [
    {
     "name": "stdout",
     "output_type": "stream",
     "text": [
      "Epoch 1/1\n",
      "40500/40500 [==============================] - 43s 1ms/step - loss: 0.4293 - acc: 0.9332\n",
      "Wall time: 43.4 s\n"
     ]
    },
    {
     "data": {
      "text/plain": [
       "<keras.callbacks.History at 0x2929c4651d0>"
      ]
     },
     "execution_count": 72,
     "metadata": {},
     "output_type": "execute_result"
    }
   ],
   "source": [
    "%%time\n",
    "# train model\n",
    "model.fit(delete_digits(X_train_completed, 0), y_train, batch_size=128, epochs=1, verbose=1)"
   ]
  },
  {
   "cell_type": "code",
   "execution_count": null,
   "metadata": {},
   "outputs": [
    {
     "name": "stdout",
     "output_type": "stream",
     "text": [
      "Pass n° 1 ...\n",
      "Train on 40500 samples, validate on 4500 samples\n",
      "Epoch 1/1\n",
      "40500/40500 [==============================] - 34s 837us/step - loss: 0.0415 - acc: 0.9884 - val_loss: 0.0272 - val_acc: 0.9890\n",
      "Pass n° 2 ...\n",
      "Train on 40500 samples, validate on 4500 samples\n",
      "Epoch 1/2\n",
      "40500/40500 [==============================] - 27s 678us/step - loss: 0.0593 - acc: 0.9778 - val_loss: 0.0540 - val_acc: 0.9783\n",
      "Epoch 2/2\n",
      "21376/40500 [==============>...............] - ETA: 12s - loss: 0.0575 - acc: 0.9779"
     ]
    }
   ],
   "source": [
    "%%time\n",
    "early_stop = EarlyStopping(patience=2, verbose=1, restore_best_weights=True)\n",
    "\n",
    "i = 1\n",
    "for nb_epochs, nb_delete in zip(\n",
    "        [1, 2, 3, 4, 6, 8, 10, 10, 10, 10, 10, 10, 10, 10, 10, 10, 10],  # epochs for each round\n",
    "        [1, 2, 3, 4, 6, 8, 10, 12, 15, 20, 25, 30, 35, 40, 45, 50, 55]  # digit to pull off\n",
    "):\n",
    "    print('Pass n° {} ...'.format(i))\n",
    "    i += 1\n",
    "    \n",
    "    model.fit(\n",
    "        delete_digits(X_train_completed, nb_delete),  # delete digits from training sample\n",
    "        y_train,\n",
    "        validation_data=(\n",
    "            delete_digits(X_val_completed, nb_delete), # delete same amount of digit from validation sample\n",
    "            y_val),\n",
    "        batch_size=128,\n",
    "        epochs=nb_epochs,\n",
    "        verbose=1,\n",
    "        callbacks=[early_stop]\n",
    "    )"
   ]
  },
  {
   "cell_type": "code",
   "execution_count": 282,
   "metadata": {},
   "outputs": [
    {
     "name": "stdout",
     "output_type": "stream",
     "text": [
      "\n",
      "Grid solved:\t 100\n",
      "Correct ones:\t 0\n",
      "Accuracy:\t 0.0\n",
      "\n",
      "Wall time: 13 s\n"
     ]
    }
   ],
   "source": [
    "%%time\n",
    "predictions = list(map(from_one_hot, iterative_predict(X_test[:100], model)))\n",
    "# deltas = total_diff(from_one_hot(y_test) + 1, predictions)\n",
    "deltas = [correct_solution(from_one_hot(puzzle), solution) for puzzle, solution in zip(X_test[:100], predictions)]\n",
    "accuracy = np.mean(deltas)\n",
    "\n",
    "print(\n",
    "\"\"\"\n",
    "Grid solved:\\t {}\n",
    "Correct ones:\\t {}\n",
    "Accuracy:\\t {}\n",
    "\"\"\".format(len(deltas), np.sum(deltas), accuracy))"
   ]
  }
 ],
 "metadata": {
  "kernelspec": {
   "display_name": "Python 3",
   "language": "python",
   "name": "python3"
  },
  "language_info": {
   "codemirror_mode": {
    "name": "ipython",
    "version": 3
   },
   "file_extension": ".py",
   "mimetype": "text/x-python",
   "name": "python",
   "nbconvert_exporter": "python",
   "pygments_lexer": "ipython3",
   "version": "3.7.1"
  }
 },
 "nbformat": 4,
 "nbformat_minor": 2
}
