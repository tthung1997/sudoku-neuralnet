{
 "cells": [
  {
   "cell_type": "markdown",
   "metadata": {},
   "source": [
    "# Libraries"
   ]
  },
  {
   "cell_type": "code",
   "execution_count": 1,
   "metadata": {},
   "outputs": [
    {
     "name": "stderr",
     "output_type": "stream",
     "text": [
      "Using TensorFlow backend.\n"
     ]
    }
   ],
   "source": [
    "# imports\n",
    "import pandas as pd\n",
    "import numpy as np\n",
    "import argparse\n",
    "\n",
    "from sklearn.model_selection import train_test_split\n",
    "from keras.utils import to_categorical\n",
    "\n",
    "# Import models from another notebook\n",
    "%run model.ipynb\n",
    "%run util.ipynb"
   ]
  },
  {
   "cell_type": "code",
   "execution_count": 2,
   "metadata": {},
   "outputs": [],
   "source": [
    "# # params\n",
    "# parser = argparse.ArgumentParser(description='Process inputs for training a model')\n",
    "# parser.add_argument('--model_id', default='dense_model')\n",
    "# parser.add_argument('--dropout', default='0.4', type=float)\n",
    "# parser.add_argument('--layers_count', default='2', type=int)\n",
    "# parser.add_argument('--dense_units', default='64', type=int)\n",
    "# parser.add_argument('--hidden_activation', default='relu')\n",
    "\n",
    "# args = parser.parse_args()\n",
    "# print(\"Args: \" + str(args))"
   ]
  },
  {
   "cell_type": "markdown",
   "metadata": {},
   "source": [
    "# Preprocessing\n",
    "\n",
    "### Load sudoku"
   ]
  },
  {
   "cell_type": "code",
   "execution_count": 3,
   "metadata": {},
   "outputs": [
    {
     "name": "stdout",
     "output_type": "stream",
     "text": [
      "Full shape: (1000000, 2)\n"
     ]
    }
   ],
   "source": [
    "# load inputs\n",
    "sudokus = pd.read_csv('./datasets/sudoku-kaggle.csv').values\n",
    "print(\"Full shape:\", sudokus.shape)"
   ]
  },
  {
   "cell_type": "markdown",
   "metadata": {},
   "source": [
    "### Split into data and labels"
   ]
  },
  {
   "cell_type": "code",
   "execution_count": 4,
   "metadata": {},
   "outputs": [
    {
     "name": "stdout",
     "output_type": "stream",
     "text": [
      "Number of puzzles: 1000000\n",
      "Number of solutions: 1000000\n"
     ]
    }
   ],
   "source": [
    "# Split into puzzles and solutions\n",
    "puzzles, solutions = sudokus[:, 0], sudokus[:, 1]\n",
    "print(\"Number of puzzles:\", len(puzzles))\n",
    "print(\"Number of solutions:\", len(solutions))"
   ]
  },
  {
   "cell_type": "markdown",
   "metadata": {},
   "source": [
    "### Reshape the data"
   ]
  },
  {
   "cell_type": "code",
   "execution_count": 5,
   "metadata": {},
   "outputs": [
    {
     "name": "stdout",
     "output_type": "stream",
     "text": [
      "Shape of puzzles: (1000000, 9, 9)\n",
      "Shape of solutions: (1000000, 9, 9)\n"
     ]
    }
   ],
   "source": [
    "# Reshape to 9x9\n",
    "reshape_f = lambda x: np.reshape([int(digit) for digit in x], (9, 9))\n",
    "reshaped_puzzles = np.array(list(map(reshape_f, puzzles)))\n",
    "reshaped_solutions = np.array(list(map(reshape_f, solutions)))\n",
    "print(\"Shape of puzzles:\", reshaped_puzzles.shape)\n",
    "print(\"Shape of solutions:\", reshaped_solutions.shape)"
   ]
  },
  {
   "cell_type": "code",
   "execution_count": 6,
   "metadata": {},
   "outputs": [
    {
     "name": "stdout",
     "output_type": "stream",
     "text": [
      "Shape of puzzles: (1000000, 9, 9, 10)\n",
      "Shape of solutions: (1000000, 9, 9, 9)\n"
     ]
    }
   ],
   "source": [
    "# To one-hot encoding\n",
    "one_hot_f = lambda x: to_categorical(x).astype('float32')\n",
    "one_hot_puzzles = one_hot_f(reshaped_puzzles)\n",
    "one_hot_solutions = one_hot_f(reshaped_solutions - 1)\n",
    "print(\"Shape of puzzles:\", one_hot_puzzles.shape)\n",
    "print(\"Shape of solutions:\", one_hot_solutions.shape)"
   ]
  },
  {
   "cell_type": "markdown",
   "metadata": {},
   "source": [
    "### Train test split"
   ]
  },
  {
   "cell_type": "code",
   "execution_count": 7,
   "metadata": {},
   "outputs": [
    {
     "name": "stdout",
     "output_type": "stream",
     "text": [
      "Training data shape: (800000, 9, 9, 10)\n",
      "Training labels shape: (800000, 9, 9, 9)\n",
      "Testing data shape: (200000, 9, 9, 10)\n",
      "Testing labels shape: (200000, 9, 9, 9)\n"
     ]
    }
   ],
   "source": [
    "# Split into train and test set\n",
    "X_train, X_test, y_train, y_test = train_test_split(one_hot_puzzles, one_hot_solutions, \n",
    "                                                    test_size=0.2, random_state=42)\n",
    "print(\"Training data shape:\", X_train.shape)\n",
    "print(\"Training labels shape:\", y_train.shape)\n",
    "print(\"Testing data shape:\", X_test.shape)\n",
    "print(\"Testing labels shape:\", y_test.shape)"
   ]
  },
  {
   "cell_type": "markdown",
   "metadata": {},
   "source": [
    "# Start training"
   ]
  },
  {
   "cell_type": "code",
   "execution_count": 8,
   "metadata": {},
   "outputs": [
    {
     "name": "stdout",
     "output_type": "stream",
     "text": [
      "WARNING:tensorflow:From H:\\Anaconda3\\lib\\site-packages\\tensorflow\\python\\ops\\resource_variable_ops.py:435: colocate_with (from tensorflow.python.framework.ops) is deprecated and will be removed in a future version.\n",
      "Instructions for updating:\n",
      "Colocations handled automatically by placer.\n",
      "WARNING:tensorflow:From H:\\Anaconda3\\lib\\site-packages\\tensorflow\\python\\keras\\layers\\core.py:143: calling dropout (from tensorflow.python.ops.nn_ops) with keep_prob is deprecated and will be removed in a future version.\n",
      "Instructions for updating:\n",
      "Please use `rate` instead of `keep_prob`. Rate should be set to `rate = 1 - keep_prob`.\n"
     ]
    },
    {
     "data": {
      "text/plain": [
       "<tensorflow.python.keras.engine.training.Model at 0x1a0aff0f6a0>"
      ]
     },
     "execution_count": 8,
     "metadata": {},
     "output_type": "execute_result"
    }
   ],
   "source": [
    "# initialize model\n",
    "model = get_model(X_train.shape[1:], y_train.shape[1:], model_id='dense_model')\n",
    "model"
   ]
  },
  {
   "cell_type": "code",
   "execution_count": null,
   "metadata": {},
   "outputs": [],
   "source": [
    "print(\"Model input shape:\", model.input.shape)\n",
    "print(\"Model output shape:\", model.output.shape)"
   ]
  },
  {
   "cell_type": "code",
   "execution_count": 9,
   "metadata": {},
   "outputs": [
    {
     "name": "stdout",
     "output_type": "stream",
     "text": [
      "WARNING:tensorflow:From H:\\Anaconda3\\lib\\site-packages\\tensorflow\\python\\ops\\math_ops.py:3066: to_int32 (from tensorflow.python.ops.math_ops) is deprecated and will be removed in a future version.\n",
      "Instructions for updating:\n",
      "Use tf.cast instead.\n",
      "800000/800000 [==============================] - 538s 672us/sample - loss: 68.2251 - acc: 0.7677\n"
     ]
    },
    {
     "data": {
      "text/plain": [
       "<tensorflow.python.keras.callbacks.History at 0x1a0b204a4a8>"
      ]
     },
     "execution_count": 9,
     "metadata": {},
     "output_type": "execute_result"
    }
   ],
   "source": [
    "# train model\n",
    "model.fit(delete_digits(X_train, 0), y_train, batch_size=128, epochs=1, verbose=1)"
   ]
  }
 ],
 "metadata": {
  "kernelspec": {
   "display_name": "Python 3",
   "language": "python",
   "name": "python3"
  },
  "language_info": {
   "codemirror_mode": {
    "name": "ipython",
    "version": 3
   },
   "file_extension": ".py",
   "mimetype": "text/x-python",
   "name": "python",
   "nbconvert_exporter": "python",
   "pygments_lexer": "ipython3",
   "version": "3.7.3"
  }
 },
 "nbformat": 4,
 "nbformat_minor": 2
}
