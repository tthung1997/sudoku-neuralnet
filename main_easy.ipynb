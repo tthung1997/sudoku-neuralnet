{
 "cells": [
  {
   "cell_type": "markdown",
   "metadata": {},
   "source": [
    "# Libraries"
   ]
  },
  {
   "cell_type": "code",
   "execution_count": 77,
   "metadata": {},
   "outputs": [],
   "source": [
    "# imports\n",
    "import pandas as pd\n",
    "import numpy as np\n",
    "import json\n",
    "import matplotlib.pyplot as plt\n",
    "from collections import Counter\n",
    "\n",
    "import keras\n",
    "from sklearn.model_selection import train_test_split\n",
    "from keras.callbacks import EarlyStopping\n",
    "from keras.utils import to_categorical\n",
    "\n",
    "# Import models from another notebook\n",
    "%run model.ipynb\n",
    "%run util.ipynb"
   ]
  },
  {
   "cell_type": "markdown",
   "metadata": {},
   "source": [
    "# Preprocessing"
   ]
  },
  {
   "cell_type": "code",
   "execution_count": 2,
   "metadata": {},
   "outputs": [
    {
     "name": "stdout",
     "output_type": "stream",
     "text": [
      "Full shape: (1000000, 2)\n"
     ]
    }
   ],
   "source": [
    "# load inputs\n",
    "sudokus = pd.read_csv('./datasets/sudoku-kaggle.csv').values\n",
    "print(\"Full shape:\", sudokus.shape)"
   ]
  },
  {
   "cell_type": "code",
   "execution_count": 3,
   "metadata": {},
   "outputs": [
    {
     "data": {
      "text/plain": [
       "array([['004300209005009001070060043006002087190007400050083000600000105003508690042910300',\n",
       "        '864371259325849761971265843436192587198657432257483916689734125713528694542916378'],\n",
       "       ['040100050107003960520008000000000017000906800803050620090060543600080700250097100',\n",
       "        '346179258187523964529648371965832417472916835813754629798261543631485792254397186'],\n",
       "       ['600120384008459072000006005000264030070080006940003000310000050089700000502000190',\n",
       "        '695127384138459672724836915851264739273981546946573821317692458489715263562348197'],\n",
       "       ['497200000100400005000016098620300040300900000001072600002005870000600004530097061',\n",
       "        '497258316186439725253716498629381547375964182841572639962145873718623954534897261'],\n",
       "       ['005910308009403060027500100030000201000820007006007004000080000640150700890000420',\n",
       "        '465912378189473562327568149738645291954821637216397854573284916642159783891736425']],\n",
       "      dtype=object)"
      ]
     },
     "execution_count": 3,
     "metadata": {},
     "output_type": "execute_result"
    }
   ],
   "source": [
    "# Examine first 5 rows\n",
    "sudokus[:5]"
   ]
  },
  {
   "cell_type": "code",
   "execution_count": 4,
   "metadata": {},
   "outputs": [
    {
     "name": "stdout",
     "output_type": "stream",
     "text": [
      "Initial shape of X: (1000000,)\n",
      "Initial shape of y: (1000000,)\n",
      "Convert strings in X to: (1000000, 81)\n",
      "Convert strings in y to: (1000000, 81)\n",
      "Reshape X to: (1000000, 9, 9)\n",
      "Reshape y to: (1000000, 9, 9)\n"
     ]
    }
   ],
   "source": [
    "# Preprocess\n",
    "X_kaggle, y_kaggle = sudokus[:, 0], sudokus[:, 1]\n",
    "X_kaggle, y_kaggle = preprocess(X_kaggle, y_kaggle, \n",
    "                                from_string=True, \n",
    "                                reshape=True, \n",
    "                                one_hot=False)"
   ]
  },
  {
   "cell_type": "code",
   "execution_count": 6,
   "metadata": {},
   "outputs": [
    {
     "data": {
      "text/plain": [
       "array([[0, 0, 4, 3, 0, 0, 2, 0, 9],\n",
       "       [0, 0, 5, 0, 0, 9, 0, 0, 1],\n",
       "       [0, 7, 0, 0, 6, 0, 0, 4, 3],\n",
       "       [0, 0, 6, 0, 0, 2, 0, 8, 7],\n",
       "       [1, 9, 0, 0, 0, 7, 4, 0, 0],\n",
       "       [0, 5, 0, 0, 8, 3, 0, 0, 0],\n",
       "       [6, 0, 0, 0, 0, 0, 1, 0, 5],\n",
       "       [0, 0, 3, 5, 0, 8, 6, 9, 0],\n",
       "       [0, 4, 2, 9, 1, 0, 3, 0, 0]])"
      ]
     },
     "execution_count": 6,
     "metadata": {},
     "output_type": "execute_result"
    }
   ],
   "source": [
    "# After reshape\n",
    "X_kaggle[0]"
   ]
  },
  {
   "cell_type": "code",
   "execution_count": 6,
   "metadata": {},
   "outputs": [
    {
     "name": "stdout",
     "output_type": "stream",
     "text": [
      "Maximum #clues: 37\n",
      "Minimum #clues: 29\n",
      "Average #clues: 33.81279\n"
     ]
    },
    {
     "data": {
      "image/png": "[encoded data removed]",
      "text/plain": [
       "<Figure size 432x288 with 1 Axes>"
      ]
     },
     "metadata": {
      "needs_background": "light"
     },
     "output_type": "display_data"
    }
   ],
   "source": [
    "# Count clues\n",
    "clues = np.sum(X_kaggle != 0, axis=(1, 2))\n",
    "print(\"Maximum #clues:\", np.max(clues))\n",
    "print(\"Minimum #clues:\", np.min(clues))\n",
    "print(\"Average #clues:\", np.mean(clues))\n",
    "\n",
    "# plot histogram\n",
    "plt.hist(clues)\n",
    "plt.xlabel('#clues')\n",
    "plt.ylabel('#instances')\n",
    "plt.show()"
   ]
  },
  {
   "cell_type": "code",
   "execution_count": 7,
   "metadata": {},
   "outputs": [],
   "source": [
    "#   DEGREE OF DIFFICULTY   |  SCORE                                                \n",
    "# -------------------------+------------------------------------------             \n",
    "#   TRIVIAL                |  80 points or less                                    \n",
    "#   EASY                   |  81 - 150 points                                      \n",
    "#   MEDIUM                 |  151 - 250 points                                     \n",
    "#   HARD                   |  251 - 400 points                                     \n",
    "#   VERY HARD              |  401 - 900 points                                     \n",
    "#   DIABOLICAL             |  901 and up                                           \n",
    "\n",
    "evals = calculate_difficulty(X_kaggle[:10]) # TODO change"
   ]
  },
  {
   "cell_type": "code",
   "execution_count": 9,
   "metadata": {},
   "outputs": [
    {
     "name": "stdout",
     "output_type": "stream",
     "text": [
      "Maximum #solutions: 1\n",
      "Minimum #solutions: 1\n",
      "Average #solutions: 1.0\n"
     ]
    }
   ],
   "source": [
    "# Number of solutions # TODO rerun\n",
    "counts = list(map(lambda x: int(x['counts'][0]), evals))\n",
    "print(\"Maximum #solutions:\", np.max(counts))\n",
    "print(\"Minimum #solutions:\", np.min(counts))\n",
    "print(\"Average #solutions:\", np.mean(counts))"
   ]
  },
  {
   "cell_type": "code",
   "execution_count": 10,
   "metadata": {},
   "outputs": [
    {
     "name": "stdout",
     "output_type": "stream",
     "text": [
      "Maximum score: 49\n",
      "Minimum score: 46\n",
      "Average score: 47.2\n"
     ]
    }
   ],
   "source": [
    "# scores\n",
    "scores = list(map(lambda x: int(x['scores'][0]), evals))\n",
    "print(\"Maximum score:\", np.max(scores))\n",
    "print(\"Minimum score:\", np.min(scores))\n",
    "print(\"Average score:\", np.mean(scores))"
   ]
  },
  {
   "cell_type": "code",
   "execution_count": 5,
   "metadata": {},
   "outputs": [
    {
     "name": "stdout",
     "output_type": "stream",
     "text": [
      "Initial shape of X: (1000000, 9, 9)\n",
      "Initial shape of y: (1000000, 9, 9)\n",
      "Shape of one-hot X: (1000000, 9, 9, 10)\n",
      "Shape of one-hot y: (1000000, 9, 9, 9)\n"
     ]
    }
   ],
   "source": [
    "# One-hot encoding\n",
    "X_kaggle, y_kaggle = preprocess(X_kaggle, y_kaggle, \n",
    "                                from_string=False, \n",
    "                                reshape=False, \n",
    "                                one_hot=True)"
   ]
  },
  {
   "cell_type": "code",
   "execution_count": 6,
   "metadata": {},
   "outputs": [
    {
     "name": "stdout",
     "output_type": "stream",
     "text": [
      "Used X shape: (50000, 9, 9, 10)\n",
      "Used y shape: (50000, 9, 9, 9)\n",
      "Hold X shape: (950000, 9, 9, 10)\n",
      "Hold X shape: (950000, 9, 9, 9)\n"
     ]
    }
   ],
   "source": [
    "# Get 50000 for training and testing only\n",
    "X_kaggle_used, X_kaggle_hold, y_kaggle_used, y_kaggle_hold = train_test_split(X_kaggle, y_kaggle, \n",
    "                                                                              test_size=0.95,\n",
    "                                                                              random_state=42)\n",
    "print(\"Used X shape:\", X_kaggle_used.shape)\n",
    "print(\"Used y shape:\", y_kaggle_used.shape)\n",
    "print(\"Hold X shape:\", X_kaggle_hold.shape)\n",
    "print(\"Hold X shape:\", y_kaggle_hold.shape)"
   ]
  },
  {
   "cell_type": "code",
   "execution_count": 7,
   "metadata": {},
   "outputs": [
    {
     "name": "stdout",
     "output_type": "stream",
     "text": [
      "Training data shape: (32000, 9, 9, 10)\n",
      "Training labels shape: (32000, 9, 9, 9)\n",
      "Validation data shape: (8000, 9, 9, 10)\n",
      "Validation labels shape: (8000, 9, 9, 9)\n",
      "Testing data shape: (10000, 9, 9, 10)\n",
      "Testing labels shape: (10000, 9, 9, 9)\n"
     ]
    }
   ],
   "source": [
    "# train, test, validation split\n",
    "X_kaggle_train, X_kaggle_test, y_kaggle_train, y_kaggle_test = train_test_split(X_kaggle_used,\n",
    "                                                                                y_kaggle_used,\n",
    "                                                                                test_size=0.2, \n",
    "                                                                                random_state=42)\n",
    "X_kaggle_train, X_kaggle_val, y_kaggle_train, y_kaggle_val = train_test_split(X_kaggle_train, \n",
    "                                                                              y_kaggle_train, \n",
    "                                                                              test_size=0.2, \n",
    "                                                                              random_state=42)\n",
    "print(\"Training data shape:\", X_kaggle_train.shape)\n",
    "print(\"Training labels shape:\", y_kaggle_train.shape)\n",
    "print(\"Validation data shape:\", X_kaggle_val.shape)\n",
    "print(\"Validation labels shape:\", y_kaggle_val.shape)\n",
    "print(\"Testing data shape:\", X_kaggle_test.shape)\n",
    "print(\"Testing labels shape:\", y_kaggle_test.shape)"
   ]
  },
  {
   "cell_type": "markdown",
   "metadata": {},
   "source": [
    "# Training\n",
    "\n",
    "### Dense model"
   ]
  },
  {
   "cell_type": "code",
   "execution_count": 10,
   "metadata": {},
   "outputs": [
    {
     "name": "stdout",
     "output_type": "stream",
     "text": [
      "WARNING:tensorflow:From /home/tthung1997/.local/lib/python3.6/site-packages/tensorflow/python/framework/op_def_library.py:263: colocate_with (from tensorflow.python.framework.ops) is deprecated and will be removed in a future version.\n",
      "Instructions for updating:\n",
      "Colocations handled automatically by placer.\n",
      "WARNING:tensorflow:From /home/tthung1997/.local/lib/python3.6/site-packages/keras/backend/tensorflow_backend.py:3445: calling dropout (from tensorflow.python.ops.nn_ops) with keep_prob is deprecated and will be removed in a future version.\n",
      "Instructions for updating:\n",
      "Please use `rate` instead of `keep_prob`. Rate should be set to `rate = 1 - keep_prob`.\n",
      "__________________________________________________________________________________________________\n",
      "Layer (type)                    Output Shape         Param #     Connected to                     \n",
      "==================================================================================================\n",
      "input_1 (InputLayer)            (None, 9, 9, 10)     0                                            \n",
      "__________________________________________________________________________________________________\n",
      "sequential_1 (Sequential)       (None, 5184)         4864        input_1[0][0]                    \n",
      "__________________________________________________________________________________________________\n",
      "dense_3 (Dense)                 (None, 9)            46665       sequential_1[1][0]               \n",
      "__________________________________________________________________________________________________\n",
      "dense_4 (Dense)                 (None, 9)            46665       sequential_1[1][0]               \n",
      "__________________________________________________________________________________________________\n",
      "dense_5 (Dense)                 (None, 9)            46665       sequential_1[1][0]               \n",
      "__________________________________________________________________________________________________\n",
      "dense_6 (Dense)                 (None, 9)            46665       sequential_1[1][0]               \n",
      "__________________________________________________________________________________________________\n",
      "dense_7 (Dense)                 (None, 9)            46665       sequential_1[1][0]               \n",
      "__________________________________________________________________________________________________\n",
      "dense_8 (Dense)                 (None, 9)            46665       sequential_1[1][0]               \n",
      "__________________________________________________________________________________________________\n",
      "dense_9 (Dense)                 (None, 9)            46665       sequential_1[1][0]               \n",
      "__________________________________________________________________________________________________\n",
      "dense_10 (Dense)                (None, 9)            46665       sequential_1[1][0]               \n",
      "__________________________________________________________________________________________________\n",
      "dense_11 (Dense)                (None, 9)            46665       sequential_1[1][0]               \n",
      "__________________________________________________________________________________________________\n",
      "dense_12 (Dense)                (None, 9)            46665       sequential_1[1][0]               \n",
      "__________________________________________________________________________________________________\n",
      "dense_13 (Dense)                (None, 9)            46665       sequential_1[1][0]               \n",
      "__________________________________________________________________________________________________\n",
      "dense_14 (Dense)                (None, 9)            46665       sequential_1[1][0]               \n",
      "__________________________________________________________________________________________________\n",
      "dense_15 (Dense)                (None, 9)            46665       sequential_1[1][0]               \n",
      "__________________________________________________________________________________________________\n",
      "dense_16 (Dense)                (None, 9)            46665       sequential_1[1][0]               \n",
      "__________________________________________________________________________________________________\n",
      "dense_17 (Dense)                (None, 9)            46665       sequential_1[1][0]               \n",
      "__________________________________________________________________________________________________\n",
      "dense_18 (Dense)                (None, 9)            46665       sequential_1[1][0]               \n",
      "__________________________________________________________________________________________________\n",
      "dense_19 (Dense)                (None, 9)            46665       sequential_1[1][0]               \n",
      "__________________________________________________________________________________________________\n",
      "dense_20 (Dense)                (None, 9)            46665       sequential_1[1][0]               \n",
      "__________________________________________________________________________________________________\n",
      "dense_21 (Dense)                (None, 9)            46665       sequential_1[1][0]               \n",
      "__________________________________________________________________________________________________\n",
      "dense_22 (Dense)                (None, 9)            46665       sequential_1[1][0]               \n",
      "__________________________________________________________________________________________________\n",
      "dense_23 (Dense)                (None, 9)            46665       sequential_1[1][0]               \n",
      "__________________________________________________________________________________________________\n",
      "dense_24 (Dense)                (None, 9)            46665       sequential_1[1][0]               \n",
      "__________________________________________________________________________________________________\n",
      "dense_25 (Dense)                (None, 9)            46665       sequential_1[1][0]               \n",
      "__________________________________________________________________________________________________\n",
      "dense_26 (Dense)                (None, 9)            46665       sequential_1[1][0]               \n",
      "__________________________________________________________________________________________________\n",
      "dense_27 (Dense)                (None, 9)            46665       sequential_1[1][0]               \n",
      "__________________________________________________________________________________________________\n",
      "dense_28 (Dense)                (None, 9)            46665       sequential_1[1][0]               \n",
      "__________________________________________________________________________________________________\n",
      "dense_29 (Dense)                (None, 9)            46665       sequential_1[1][0]               \n",
      "__________________________________________________________________________________________________\n",
      "dense_30 (Dense)                (None, 9)            46665       sequential_1[1][0]               \n",
      "__________________________________________________________________________________________________\n",
      "dense_31 (Dense)                (None, 9)            46665       sequential_1[1][0]               \n",
      "__________________________________________________________________________________________________\n",
      "dense_32 (Dense)                (None, 9)            46665       sequential_1[1][0]               \n",
      "__________________________________________________________________________________________________\n",
      "dense_33 (Dense)                (None, 9)            46665       sequential_1[1][0]               \n",
      "__________________________________________________________________________________________________\n",
      "dense_34 (Dense)                (None, 9)            46665       sequential_1[1][0]               \n",
      "__________________________________________________________________________________________________\n",
      "dense_35 (Dense)                (None, 9)            46665       sequential_1[1][0]               \n",
      "__________________________________________________________________________________________________\n",
      "dense_36 (Dense)                (None, 9)            46665       sequential_1[1][0]               \n",
      "__________________________________________________________________________________________________\n",
      "dense_37 (Dense)                (None, 9)            46665       sequential_1[1][0]               \n",
      "__________________________________________________________________________________________________\n",
      "dense_38 (Dense)                (None, 9)            46665       sequential_1[1][0]               \n",
      "__________________________________________________________________________________________________\n",
      "dense_39 (Dense)                (None, 9)            46665       sequential_1[1][0]               \n",
      "__________________________________________________________________________________________________\n",
      "dense_40 (Dense)                (None, 9)            46665       sequential_1[1][0]               \n",
      "__________________________________________________________________________________________________\n",
      "dense_41 (Dense)                (None, 9)            46665       sequential_1[1][0]               \n",
      "__________________________________________________________________________________________________\n",
      "dense_42 (Dense)                (None, 9)            46665       sequential_1[1][0]               \n",
      "__________________________________________________________________________________________________\n",
      "dense_43 (Dense)                (None, 9)            46665       sequential_1[1][0]               \n",
      "__________________________________________________________________________________________________\n",
      "dense_44 (Dense)                (None, 9)            46665       sequential_1[1][0]               \n",
      "__________________________________________________________________________________________________\n",
      "dense_45 (Dense)                (None, 9)            46665       sequential_1[1][0]               \n",
      "__________________________________________________________________________________________________\n",
      "dense_46 (Dense)                (None, 9)            46665       sequential_1[1][0]               \n",
      "__________________________________________________________________________________________________\n",
      "dense_47 (Dense)                (None, 9)            46665       sequential_1[1][0]               \n",
      "__________________________________________________________________________________________________\n",
      "dense_48 (Dense)                (None, 9)            46665       sequential_1[1][0]               \n",
      "__________________________________________________________________________________________________\n",
      "dense_49 (Dense)                (None, 9)            46665       sequential_1[1][0]               \n",
      "__________________________________________________________________________________________________\n",
      "dense_50 (Dense)                (None, 9)            46665       sequential_1[1][0]               \n",
      "__________________________________________________________________________________________________\n",
      "dense_51 (Dense)                (None, 9)            46665       sequential_1[1][0]               \n",
      "__________________________________________________________________________________________________\n",
      "dense_52 (Dense)                (None, 9)            46665       sequential_1[1][0]               \n",
      "__________________________________________________________________________________________________\n",
      "dense_53 (Dense)                (None, 9)            46665       sequential_1[1][0]               \n",
      "__________________________________________________________________________________________________\n",
      "dense_54 (Dense)                (None, 9)            46665       sequential_1[1][0]               \n",
      "__________________________________________________________________________________________________\n",
      "dense_55 (Dense)                (None, 9)            46665       sequential_1[1][0]               \n",
      "__________________________________________________________________________________________________\n",
      "dense_56 (Dense)                (None, 9)            46665       sequential_1[1][0]               \n",
      "__________________________________________________________________________________________________\n",
      "dense_57 (Dense)                (None, 9)            46665       sequential_1[1][0]               \n",
      "__________________________________________________________________________________________________\n",
      "dense_58 (Dense)                (None, 9)            46665       sequential_1[1][0]               \n",
      "__________________________________________________________________________________________________\n",
      "dense_59 (Dense)                (None, 9)            46665       sequential_1[1][0]               \n",
      "__________________________________________________________________________________________________\n",
      "dense_60 (Dense)                (None, 9)            46665       sequential_1[1][0]               \n",
      "__________________________________________________________________________________________________\n",
      "dense_61 (Dense)                (None, 9)            46665       sequential_1[1][0]               \n",
      "__________________________________________________________________________________________________\n",
      "dense_62 (Dense)                (None, 9)            46665       sequential_1[1][0]               \n",
      "__________________________________________________________________________________________________\n",
      "dense_63 (Dense)                (None, 9)            46665       sequential_1[1][0]               \n",
      "__________________________________________________________________________________________________\n",
      "dense_64 (Dense)                (None, 9)            46665       sequential_1[1][0]               \n",
      "__________________________________________________________________________________________________\n",
      "dense_65 (Dense)                (None, 9)            46665       sequential_1[1][0]               \n",
      "__________________________________________________________________________________________________\n",
      "dense_66 (Dense)                (None, 9)            46665       sequential_1[1][0]               \n",
      "__________________________________________________________________________________________________\n",
      "dense_67 (Dense)                (None, 9)            46665       sequential_1[1][0]               \n",
      "__________________________________________________________________________________________________\n",
      "dense_68 (Dense)                (None, 9)            46665       sequential_1[1][0]               \n",
      "__________________________________________________________________________________________________\n",
      "dense_69 (Dense)                (None, 9)            46665       sequential_1[1][0]               \n",
      "__________________________________________________________________________________________________\n",
      "dense_70 (Dense)                (None, 9)            46665       sequential_1[1][0]               \n",
      "__________________________________________________________________________________________________\n",
      "dense_71 (Dense)                (None, 9)            46665       sequential_1[1][0]               \n",
      "__________________________________________________________________________________________________\n",
      "dense_72 (Dense)                (None, 9)            46665       sequential_1[1][0]               \n",
      "__________________________________________________________________________________________________\n",
      "dense_73 (Dense)                (None, 9)            46665       sequential_1[1][0]               \n",
      "__________________________________________________________________________________________________\n",
      "dense_74 (Dense)                (None, 9)            46665       sequential_1[1][0]               \n",
      "__________________________________________________________________________________________________\n",
      "dense_75 (Dense)                (None, 9)            46665       sequential_1[1][0]               \n",
      "__________________________________________________________________________________________________\n",
      "dense_76 (Dense)                (None, 9)            46665       sequential_1[1][0]               \n",
      "__________________________________________________________________________________________________\n",
      "dense_77 (Dense)                (None, 9)            46665       sequential_1[1][0]               \n",
      "__________________________________________________________________________________________________\n",
      "dense_78 (Dense)                (None, 9)            46665       sequential_1[1][0]               \n",
      "__________________________________________________________________________________________________\n",
      "dense_79 (Dense)                (None, 9)            46665       sequential_1[1][0]               \n",
      "__________________________________________________________________________________________________\n",
      "dense_80 (Dense)                (None, 9)            46665       sequential_1[1][0]               \n",
      "__________________________________________________________________________________________________\n",
      "dense_81 (Dense)                (None, 9)            46665       sequential_1[1][0]               \n",
      "__________________________________________________________________________________________________\n",
      "dense_82 (Dense)                (None, 9)            46665       sequential_1[1][0]               \n",
      "__________________________________________________________________________________________________\n",
      "dense_83 (Dense)                (None, 9)            46665       sequential_1[1][0]               \n",
      "==================================================================================================\n",
      "Total params: 3,784,729\n",
      "Trainable params: 3,784,729\n",
      "Non-trainable params: 0\n",
      "__________________________________________________________________________________________________\n"
     ]
    }
   ],
   "source": [
    "dense = get_model(input_shape=X_kaggle_train.shape[1:], model_id='dense_model')\n",
    "dense.summary()"
   ]
  },
  {
   "cell_type": "code",
   "execution_count": 11,
   "metadata": {},
   "outputs": [
    {
     "name": "stdout",
     "output_type": "stream",
     "text": [
      "_________________________________________________________________\n",
      "Layer (type)                 Output Shape              Param #   \n",
      "=================================================================\n",
      "dense_1 (Dense)              (None, 9, 9, 64)          704       \n",
      "_________________________________________________________________\n",
      "dropout_1 (Dropout)          (None, 9, 9, 64)          0         \n",
      "_________________________________________________________________\n",
      "dense_2 (Dense)              (None, 9, 9, 64)          4160      \n",
      "_________________________________________________________________\n",
      "dropout_2 (Dropout)          (None, 9, 9, 64)          0         \n",
      "_________________________________________________________________\n",
      "flatten_1 (Flatten)          (None, 5184)              0         \n",
      "=================================================================\n",
      "Total params: 4,864\n",
      "Trainable params: 4,864\n",
      "Non-trainable params: 0\n",
      "_________________________________________________________________\n"
     ]
    }
   ],
   "source": [
    "# hidden architecture\n",
    "dense.layers[1].summary()"
   ]
  },
  {
   "cell_type": "code",
   "execution_count": 18,
   "metadata": {},
   "outputs": [],
   "source": [
    "# mini-batches with #epochs and #blanks\n",
    "n_epochs = [1, 1, 2, 3, 5, 7, 9, 10, 10, 10, 10, 10, 10, 10, 10, 10, 10, 10, 10]\n",
    "n_blanks = [0, 1, 2, 3, 5, 7, 9, 12, 15, 20, 25, 30, 35, 40, 45, 50, 55, 60, 64]\n",
    "batch_size = [256] * len(n_epochs)"
   ]
  },
  {
   "cell_type": "code",
   "execution_count": null,
   "metadata": {},
   "outputs": [
    {
     "name": "stdout",
     "output_type": "stream",
     "text": [
      "Iteration 1:\n",
      "WARNING:tensorflow:From /home/tthung1997/.local/lib/python3.6/site-packages/tensorflow/python/ops/math_ops.py:3066: to_int32 (from tensorflow.python.ops.math_ops) is deprecated and will be removed in a future version.\n",
      "Instructions for updating:\n",
      "Use tf.cast instead.\n",
      "Train on 32000 samples, validate on 8000 samples\n",
      "Epoch 1/1\n"
     ]
    }
   ],
   "source": [
    "# train models\n",
    "train_model(dense, X_kaggle_train, y_kaggle_train, X_kaggle_val, y_kaggle_val,\n",
    "            n_blanks, n_epochs, batch_size, save_prefix='./models/dense_model')"
   ]
  },
  {
   "cell_type": "code",
   "execution_count": 8,
   "metadata": {},
   "outputs": [
    {
     "name": "stdout",
     "output_type": "stream",
     "text": [
      "WARNING:tensorflow:From /home/tthung1997/.local/lib/python3.6/site-packages/tensorflow/python/framework/op_def_library.py:263: colocate_with (from tensorflow.python.framework.ops) is deprecated and will be removed in a future version.\n",
      "Instructions for updating:\n",
      "Colocations handled automatically by placer.\n",
      "WARNING:tensorflow:From /home/tthung1997/.local/lib/python3.6/site-packages/keras/backend/tensorflow_backend.py:3445: calling dropout (from tensorflow.python.ops.nn_ops) with keep_prob is deprecated and will be removed in a future version.\n",
      "Instructions for updating:\n",
      "Please use `rate` instead of `keep_prob`. Rate should be set to `rate = 1 - keep_prob`.\n",
      "WARNING:tensorflow:From /home/tthung1997/.local/lib/python3.6/site-packages/tensorflow/python/ops/math_ops.py:3066: to_int32 (from tensorflow.python.ops.math_ops) is deprecated and will be removed in a future version.\n",
      "Instructions for updating:\n",
      "Use tf.cast instead.\n"
     ]
    }
   ],
   "source": [
    "dense = keras.models.load_model('./old_models/model-50.h5') # TODO remove"
   ]
  },
  {
   "cell_type": "markdown",
   "metadata": {},
   "source": [
    "### Convolutional model"
   ]
  },
  {
   "cell_type": "code",
   "execution_count": null,
   "metadata": {},
   "outputs": [],
   "source": [
    "conv = get_model(input_shape=X_kaggle_train.shape[1:], model_id='conv_model')\n",
    "conv.summary()"
   ]
  },
  {
   "cell_type": "code",
   "execution_count": null,
   "metadata": {},
   "outputs": [],
   "source": [
    "# hidden architecture\n",
    "dense.layers[1].summary()"
   ]
  },
  {
   "cell_type": "code",
   "execution_count": null,
   "metadata": {},
   "outputs": [],
   "source": [
    "# train models\n",
    "train_model(conv, X_kaggle_train, y_kaggle_train, X_kaggle_val, y_kaggle_val,\n",
    "            n_blanks, n_epochs, batch_size, save_prefix='./models/conv_model')"
   ]
  },
  {
   "cell_type": "markdown",
   "metadata": {},
   "source": [
    "# Evaluate"
   ]
  },
  {
   "cell_type": "code",
   "execution_count": null,
   "metadata": {},
   "outputs": [],
   "source": [
    "# get evaluation on validation set over epochs\n",
    "dense_val_evals = validation_summary('./models/dense_model', n_blanks, X_kaggle_val, y_kaggle_val)\n",
    "dense_train_evals = validation_summary('./models/dense_model', n_blanks, X_kaggle_train, y_kaggle_train)\n",
    "conv_val_evals = validation_summary('./models/conv_model', n_blanks, X_kaggle_val, y_kaggle_val)\n",
    "conv_train_evals = validation_summary('./models/conv_model', n_blanks, X_kaggle_train, y_kaggle_train)"
   ]
  },
  {
   "cell_type": "code",
   "execution_count": 15,
   "metadata": {},
   "outputs": [],
   "source": [
    "# TODO remove\n",
    "dense_val_evals = np.array([[4, 0.8, 0.998], [10, 0.6, 0.995], [20, 0.2, 0.98]])\n",
    "dense_train_evals = np.array([[4, 0.2, 0.999], [10, 0.3, 0.9985], [20, 0.8, 0.993]])\n",
    "conv_train_evals = np.array([[4, 0.7, 0.898], [10, 0.5, 0.895], [20, 0.1, 0.88]])\n",
    "conv_val_evals = np.array([[4, 0.3, 0.989], [10, 0.4, 0.9885], [20, 0.9, 0.983]])"
   ]
  },
  {
   "cell_type": "code",
   "execution_count": 16,
   "metadata": {},
   "outputs": [
    {
     "data": {
      "image/png": "[encoded data removed]",
      "text/plain": [
       "<Figure size 432x288 with 1 Axes>"
      ]
     },
     "metadata": {
      "needs_background": "light"
     },
     "output_type": "display_data"
    }
   ],
   "source": [
    "# plot loss # TODO rerun\n",
    "plt.plot(dense_val_evals[:, 0], dense_val_evals[:, 1], 'r-', label='Dense Validation')\n",
    "plt.plot(dense_train_evals[:, 0], dense_train_evals[:, 1], 'b-', label='Dense Train')\n",
    "plt.plot(conv_val_evals[:, 0], conv_val_evals[:, 1], 'r--', label='Conv Validation')\n",
    "plt.plot(conv_train_evals[:, 0], conv_train_evals[:, 1], 'b--', label='Conv Train')\n",
    "plt.xlabel('#blanks')\n",
    "plt.ylabel('Total loss')\n",
    "plt.legend(loc='best')\n",
    "plt.show()"
   ]
  },
  {
   "cell_type": "code",
   "execution_count": 17,
   "metadata": {},
   "outputs": [
    {
     "data": {
      "image/png": "[encoded data removed]",
      "text/plain": [
       "<Figure size 432x288 with 1 Axes>"
      ]
     },
     "metadata": {
      "needs_background": "light"
     },
     "output_type": "display_data"
    }
   ],
   "source": [
    "# plot loss # TODO rerun\n",
    "plt.plot(dense_val_evals[:, 0], dense_val_evals[:, 2], 'r-', label='Dense Validation')\n",
    "plt.plot(dense_train_evals[:, 0], dense_train_evals[:, 2], 'b-', label='Dense Train')\n",
    "plt.plot(conv_val_evals[:, 0], conv_val_evals[:, 2], 'r--', label='Conv Validation')\n",
    "plt.plot(conv_train_evals[:, 0], conv_train_evals[:, 2], 'b--', label='Conv Train')\n",
    "plt.xlabel('#blanks')\n",
    "plt.ylabel('Accuracy')\n",
    "plt.legend(loc='best')\n",
    "plt.show()"
   ]
  },
  {
   "cell_type": "code",
   "execution_count": null,
   "metadata": {},
   "outputs": [],
   "source": [
    "# Evaluate on test set # TODO select the best to run on test set\n",
    "test_performance = evaluate_model(conv, X_kaggle_test)\n",
    "print(\"Number of test puzzles:\", X_kaggle_test.shape[0])\n",
    "print(\"Number of correctly predicted puzzles:\", np.sum(test_performance['validations']))\n",
    "print(\"Accuracy:\", test_performance['accuracy'])"
   ]
  },
  {
   "cell_type": "markdown",
   "metadata": {},
   "source": [
    "### Additional evaluation\n",
    "\n",
    "##### 17-givens.txt dataset with only 17 clues each puzzle"
   ]
  },
  {
   "cell_type": "code",
   "execution_count": 54,
   "metadata": {},
   "outputs": [
    {
     "name": "stdout",
     "output_type": "stream",
     "text": [
      "Full shape: (49151, 1)\n"
     ]
    }
   ],
   "source": [
    "# load 17-givens dataset\n",
    "given17 = pd.read_csv('./datasets/17-givens.csv').values\n",
    "print(\"Full shape:\", given17.shape)"
   ]
  },
  {
   "cell_type": "code",
   "execution_count": 25,
   "metadata": {},
   "outputs": [
    {
     "data": {
      "text/plain": [
       "array([['000000010400000000020000000000050407008000300001090000300400200050100000000806000'],\n",
       "       ['000000010400000000020000000000050604008000300001090000300400200050100000000807000'],\n",
       "       ['000000012000035000000600070700000300000400800100000000000120000080000040050000600'],\n",
       "       ...,\n",
       "       ['140805000006000070000000300000200010300070000500000000800000002010400000000000500'],\n",
       "       ['080020000030000600000001000000630080100000500200000000000500401002300000700000000'],\n",
       "       ['060000300400700000000000080000008012500600000000000050082000700000500600000010000']],\n",
       "      dtype=object)"
      ]
     },
     "execution_count": 25,
     "metadata": {},
     "output_type": "execute_result"
    }
   ],
   "source": [
    "given17"
   ]
  },
  {
   "cell_type": "code",
   "execution_count": 55,
   "metadata": {},
   "outputs": [
    {
     "name": "stdout",
     "output_type": "stream",
     "text": [
      "Initial shape of X: (49151,)\n",
      "Convert strings in X to: (49151, 81)\n",
      "Reshape X to: (49151, 9, 9)\n",
      "Shape of one-hot X: (49151, 9, 9, 10)\n"
     ]
    }
   ],
   "source": [
    "# preprocess\n",
    "given17 = preprocess(given17[:, 0])[0]"
   ]
  },
  {
   "cell_type": "code",
   "execution_count": 56,
   "metadata": {},
   "outputs": [
    {
     "name": "stdout",
     "output_type": "stream",
     "text": [
      "Number of test puzzles: 49151\n",
      "Number of correctly predicted puzzles: 0\n",
      "Accuracy: 0.0\n"
     ]
    }
   ],
   "source": [
    "# run evaluate\n",
    "# TODO select the best to run on test set\n",
    "given17_performance = evaluate_model(conv, given17)\n",
    "print(\"Number of test puzzles:\", given17.shape[0])\n",
    "print(\"Number of correctly predicted puzzles:\", np.sum(given17_performance['validations']))\n",
    "print(\"Accuracy:\", given17_performance['accuracy'])"
   ]
  },
  {
   "cell_type": "markdown",
   "metadata": {},
   "source": [
    "##### UNL Sudoku dataset"
   ]
  },
  {
   "cell_type": "code",
   "execution_count": 30,
   "metadata": {},
   "outputs": [
    {
     "data": {
      "text/plain": [
       "(472, 13)"
      ]
     },
     "execution_count": 30,
     "metadata": {},
     "output_type": "execute_result"
    }
   ],
   "source": [
    "# load UNL sudoku dataset\n",
    "with open('./datasets/sudokus-unl.json') as read_file:\n",
    "    sudokus_unl = np.array(json.load(read_file))\n",
    "    \n",
    "sudokus_unl.shape"
   ]
  },
  {
   "cell_type": "code",
   "execution_count": 31,
   "metadata": {},
   "outputs": [
    {
     "data": {
      "text/plain": [
       "array(['99', 'Base', 'Omaha World-Herald', '1', '2', '5',\n",
       "       'March 24, 2009', '', 'Puzzle added by Jason Gaare',\n",
       "       '100000026200709010030060000000800700710526038003007000000010050050603007960000004',\n",
       "       '1', 'GAC', '29'], dtype='<U81')"
      ]
     },
     "execution_count": 31,
     "metadata": {},
     "output_type": "execute_result"
    }
   ],
   "source": [
    "sudokus_unl[0]"
   ]
  },
  {
   "cell_type": "code",
   "execution_count": 41,
   "metadata": {},
   "outputs": [
    {
     "name": "stdout",
     "output_type": "stream",
     "text": [
      "Initial shape of X: (472,)\n",
      "Convert strings in X to: (472, 81)\n",
      "Reshape X to: (472, 9, 9)\n",
      "Shape of one-hot X: (472, 9, 9, 10)\n"
     ]
    }
   ],
   "source": [
    "# preprocess\n",
    "sudoku_unl_puzzles = preprocess(sudokus_unl[:, 9])[0]"
   ]
  },
  {
   "cell_type": "code",
   "execution_count": 51,
   "metadata": {},
   "outputs": [],
   "source": [
    "conv = keras.models.load_model('./old_models/conv_model-50.h5')"
   ]
  },
  {
   "cell_type": "code",
   "execution_count": 52,
   "metadata": {},
   "outputs": [
    {
     "name": "stdout",
     "output_type": "stream",
     "text": [
      "Number of test puzzles: 472\n",
      "Number of correctly predicted puzzles: 0\n",
      "Accuracy: 0.0\n"
     ]
    }
   ],
   "source": [
    "# run evaluate\n",
    "# TODO select the best to run on test set\n",
    "sudoku_unl_performance = evaluate_model(conv, sudoku_unl_puzzles)\n",
    "print(\"Number of test puzzles:\", sudoku_unl_puzzles.shape[0])\n",
    "print(\"Number of correctly predicted puzzles:\", np.sum(sudoku_unl_performance['validations']))\n",
    "print(\"Accuracy:\", sudoku_unl_performance['accuracy'])"
   ]
  },
  {
   "cell_type": "code",
   "execution_count": 58,
   "metadata": {
    "scrolled": true
   },
   "outputs": [
    {
     "data": {
      "text/plain": [
       "array([False,  True,  True,  True, False, False, False, False,  True,\n",
       "       False,  True,  True, False, False,  True,  True, False,  True,\n",
       "        True, False,  True,  True,  True,  True,  True,  True,  True,\n",
       "       False, False,  True,  True,  True,  True, False,  True, False,\n",
       "        True, False,  True,  True,  True,  True, False,  True, False,\n",
       "       False, False,  True,  True, False, False, False, False,  True,\n",
       "        True,  True, False,  True, False,  True,  True,  True, False,\n",
       "       False,  True, False,  True, False,  True,  True, False, False,\n",
       "        True,  True, False,  True, False,  True, False, False, False,\n",
       "        True, False, False,  True,  True, False,  True,  True, False,\n",
       "        True, False, False, False, False,  True,  True, False, False,\n",
       "        True,  True, False, False,  True,  True, False,  True,  True,\n",
       "       False, False,  True,  True,  True, False, False, False,  True,\n",
       "       False, False, False,  True,  True, False,  True, False,  True,\n",
       "        True,  True, False, False, False,  True,  True, False,  True,\n",
       "       False, False,  True, False,  True,  True,  True,  True,  True,\n",
       "       False,  True,  True,  True, False, False,  True,  True, False,\n",
       "        True, False, False,  True,  True, False, False, False,  True,\n",
       "        True, False,  True, False,  True, False,  True, False,  True,\n",
       "        True, False, False,  True,  True, False,  True,  True, False,\n",
       "        True,  True, False,  True, False, False, False,  True,  True,\n",
       "       False,  True, False,  True,  True,  True,  True,  True, False,\n",
       "       False, False, False,  True, False, False,  True,  True, False,\n",
       "        True, False,  True, False,  True, False, False,  True, False,\n",
       "       False, False, False, False,  True,  True,  True, False, False,\n",
       "       False,  True,  True, False,  True,  True,  True,  True, False,\n",
       "        True, False, False, False,  True, False,  True, False, False,\n",
       "       False,  True,  True, False,  True, False, False, False,  True,\n",
       "        True, False, False, False,  True, False,  True, False,  True,\n",
       "        True, False, False,  True,  True, False,  True, False, False,\n",
       "        True,  True,  True, False,  True, False,  True,  True, False,\n",
       "        True, False,  True, False,  True, False, False,  True,  True,\n",
       "       False,  True, False,  True,  True, False, False, False, False,\n",
       "       False,  True, False,  True,  True, False, False, False,  True,\n",
       "       False, False,  True,  True,  True,  True, False, False, False,\n",
       "        True, False,  True, False, False, False, False, False,  True,\n",
       "       False, False, False, False, False,  True, False,  True,  True,\n",
       "        True,  True,  True,  True, False,  True, False, False, False,\n",
       "        True, False,  True,  True,  True, False,  True,  True,  True,\n",
       "        True, False, False,  True, False,  True,  True,  True, False,\n",
       "        True,  True, False,  True, False, False,  True, False, False,\n",
       "       False, False,  True, False,  True,  True,  True, False, False,\n",
       "       False,  True,  True,  True,  True,  True,  True, False,  True,\n",
       "        True, False,  True, False, False, False, False,  True, False,\n",
       "        True,  True,  True,  True, False,  True, False, False,  True,\n",
       "       False, False,  True, False, False, False,  True, False,  True,\n",
       "       False, False, False,  True,  True, False,  True,  True, False,\n",
       "       False,  True,  True, False,  True,  True, False,  True,  True,\n",
       "        True,  True,  True, False, False,  True, False,  True, False,\n",
       "        True,  True,  True,  True,  True, False, False, False,  True,\n",
       "       False, False, False, False, False, False, False, False,  True,\n",
       "        True, False,  True, False, False,  True,  True, False, False,\n",
       "       False,  True, False, False])"
      ]
     },
     "execution_count": 58,
     "metadata": {},
     "output_type": "execute_result"
    }
   ],
   "source": [
    "# TODO remove\n",
    "sudoku_unl_performance['validations'] = np.random.randint(2, size=sudoku_unl_puzzles.shape[0], dtype=bool)\n",
    "sudoku_unl_performance['validations']"
   ]
  },
  {
   "cell_type": "code",
   "execution_count": 59,
   "metadata": {},
   "outputs": [
    {
     "data": {
      "text/plain": [
       "array([['99', 'Base', 'Omaha World-Herald', ..., 'GAC', '29', 'False'],\n",
       "       ['98', 'Base', 'Daily Nebraskan', ..., 'AC', '29', 'True'],\n",
       "       ['100', 'Base', 'LA Times', ..., 'SAC', '28', 'True'],\n",
       "       ...,\n",
       "       ['637', 'Base', 'Lincoln Journal Star', ..., 'SAC', '25', 'True'],\n",
       "       ['638', 'Base', 'Evan', ..., 'GAC', '22', 'False'],\n",
       "       ['639', 'Base', 'RWallace', ..., 'GAC', '28', 'False']],\n",
       "      dtype='<U81')"
      ]
     },
     "execution_count": 59,
     "metadata": {},
     "output_type": "execute_result"
    }
   ],
   "source": [
    "# append to original array\n",
    "sudoku_unl_combined = np.concatenate((sudokus_unl, \n",
    "                                      np.expand_dims(sudoku_unl_performance['validations'], \n",
    "                                                     axis=1)), \n",
    "                                     axis=1)\n",
    "sudoku_unl_combined"
   ]
  },
  {
   "cell_type": "code",
   "execution_count": 92,
   "metadata": {},
   "outputs": [
    {
     "data": {
      "image/png": "[encoded data removed]",
      "text/plain": [
       "<Figure size 864x432 with 1 Axes>"
      ]
     },
     "metadata": {
      "needs_background": "light"
     },
     "output_type": "display_data"
    }
   ],
   "source": [
    "# get solvable instances\n",
    "solvables = sudoku_unl_combined[sudoku_unl_combined[:, -1] == 'True']\n",
    "\n",
    "# Examine algorithms\n",
    "solvable_algos = solvables[:, -3]\n",
    "counter = Counter(solvable_algos)\n",
    "algo_count = np.array(list(zip(counter.keys(), counter.values())))\n",
    "algo_order = {'AC': 0, 'SAC': 1, 'GAC': 2, 'SAC + GAC': 3, 'SGAC': 4,\n",
    "              'BiSGAC': 5, 'SSAC': 6, 'BiSGAC + SSAC': 7, 'SSGAC': 8,\n",
    "              'Unsolved': 9}\n",
    "algo_count = np.array(sorted(algo_count, key=lambda x: algo_order[x[0]]))\n",
    "plt.figure(figsize=(12, 6))\n",
    "plt.bar(np.arange(len(algo_count)), list(map(int, algo_count[:, 1])))\n",
    "plt.xticks(np.arange(len(algo_count)), algo_count[:, 0])\n",
    "plt.show()"
   ]
  }
 ],
 "metadata": {
  "kernelspec": {
   "display_name": "Python 3",
   "language": "python",
   "name": "python3"
  },
  "language_info": {
   "codemirror_mode": {
    "name": "ipython",
    "version": 3
   },
   "file_extension": ".py",
   "mimetype": "text/x-python",
   "name": "python",
   "nbconvert_exporter": "python",
   "pygments_lexer": "ipython3",
   "version": "3.6.7"
  }
 },
 "nbformat": 4,
 "nbformat_minor": 2
}
