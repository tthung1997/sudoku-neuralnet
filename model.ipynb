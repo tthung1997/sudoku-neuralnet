{
 "cells": [
  {
   "cell_type": "code",
   "execution_count": 2,
   "metadata": {},
   "outputs": [],
   "source": [
    "# libraries\n",
    "import tensorflow as tf\n",
    "from tensorflow.keras.layers import Input, Dropout, Conv2D, Dense, Flatten\n",
    "from tensorflow.keras.models import Model, Sequential\n",
    "\n",
    "models = {}"
   ]
  },
  {
   "cell_type": "code",
   "execution_count": 3,
   "metadata": {},
   "outputs": [],
   "source": [
    "def dense_model(input_shape, output_shape, name='dense_model', **kwargs):\n",
    "    # get hyper-parameters\n",
    "    dropout = kwargs.get('dropout', 0.4)\n",
    "    dense_units = kwargs.get('dense_units', 64)\n",
    "    hidden_activation = kwargs.get('hidden_activation', 'relu')\n",
    "    layers_count = max(kwargs.get('layers_count', 2), 1)\n",
    "    \n",
    "    # hidden network\n",
    "    hidden = Sequential()\n",
    "    ### first layer\n",
    "    hidden.add(Dense(dense_units, \n",
    "                     activation=hidden_activation, \n",
    "                     input_shape=input_shape))\n",
    "    hidden.add(Dropout(rate=dropout))\n",
    "    ### append others\n",
    "    for _ in range(layers_count - 1):\n",
    "        hidden.add(Dense(dense_units, \n",
    "                         activation=hidden_activation))\n",
    "        hidden.add(Dropout(rate=dropout))\n",
    "    ### final layers      \n",
    "    hidden.add(Flatten())\n",
    "    hidden.add(Dense(output_shape, activation='softmax'))    \n",
    "    \n",
    "    # input and output\n",
    "    tf_input = Input(shape=input_shape)\n",
    "    tf_output = hidden(tf_input)\n",
    "    \n",
    "    # create model\n",
    "    model = Model(tf_input, tf_output)\n",
    "    model.compile(\n",
    "        optimizer='adam',\n",
    "        loss='categorical_crossentropy',\n",
    "        metrics=['accuracy']\n",
    "    )\n",
    "    return model\n",
    "\n",
    "models['dense_model'] = dense_model"
   ]
  },
  {
   "cell_type": "code",
   "execution_count": 4,
   "metadata": {},
   "outputs": [],
   "source": [
    "def get_model(input_shape, output_shape, model_id, \n",
    "              model_name=\"sudoku_net\", **kwargs):\n",
    "    return models[model_id](input_shape, output_shape, model_name, kwargs)"
   ]
  }
 ],
 "metadata": {
  "kernelspec": {
   "display_name": "Python 3",
   "language": "python",
   "name": "python3"
  },
  "language_info": {
   "codemirror_mode": {
    "name": "ipython",
    "version": 3
   },
   "file_extension": ".py",
   "mimetype": "text/x-python",
   "name": "python",
   "nbconvert_exporter": "python",
   "pygments_lexer": "ipython3",
   "version": "3.6.7"
  }
 },
 "nbformat": 4,
 "nbformat_minor": 2
}
